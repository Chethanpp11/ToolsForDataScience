{
 "cells": [
  {
   "cell_type": "markdown",
   "id": "825c8597-87b5-428c-a119-e222a023d0d1",
   "metadata": {},
   "source": [
    "# Data Science Tools and Ecosystem"
   ]
  },
  {
   "cell_type": "markdown",
   "id": "eb1c50ae-02b0-4a5a-a4b2-25c786923ee3",
   "metadata": {},
   "source": [
    "In this notebook, Data Science Tools and Ecosystem are summarized."
   ]
  },
  {
   "cell_type": "markdown",
   "id": "344ccfe1-ab29-4791-8c10-753f3f9dc32e",
   "metadata": {},
   "source": [
    "Some of the popular languages that Data Scientists use are:\n",
    "1. Python\n",
    "2. R\n",
    "3. SQL\n",
    "4. C++\n",
    "5. Java"
   ]
  },
  {
   "cell_type": "markdown",
   "id": "2f5eb003-3ab6-48a4-a271-ac5378812bb6",
   "metadata": {},
   "source": [
    "Some of the commonly used libraries used by Data Scientists include:\n",
    "1. TensorFlow\n",
    "2. NumPy\n",
    "3. SciPy\n",
    "4. Matplotlib\n",
    "5. Pandas\n",
    "6. Keras\n",
    "7. SciKit-Learn\n",
    "8. PyTorch\n"
   ]
  },
  {
   "cell_type": "markdown",
   "id": "bc7e90de-2b9e-4765-a546-312e7676ac17",
   "metadata": {
    "tags": []
   },
   "source": [
    "|Data Science Tools|\n",
    "|---|\n",
    "|SAS|\n",
    "|Apache Hadoop|\n",
    "|TensorFlow|"
   ]
  },
  {
   "cell_type": "markdown",
   "id": "24a75659-671b-4f05-9393-48162b23c4a2",
   "metadata": {},
   "source": [
    "### Below are a few examples of evaluating arithmetic expressions in Python"
   ]
  },
  {
   "cell_type": "code",
   "execution_count": 2,
   "id": "84846e5d-bbb4-41da-9e73-e0340d0a8145",
   "metadata": {
    "tags": []
   },
   "outputs": [
    {
     "data": {
      "text/plain": [
       "17"
      ]
     },
     "execution_count": 2,
     "metadata": {},
     "output_type": "execute_result"
    }
   ],
   "source": [
    "# This a simple arithmetic expression to mutiply then add integers\n",
    "(3*4)+5"
   ]
  },
  {
   "cell_type": "code",
   "execution_count": 3,
   "id": "ac4f8e2c-62b4-431b-a2f2-f9d24ca7ebe2",
   "metadata": {
    "tags": []
   },
   "outputs": [
    {
     "data": {
      "text/plain": [
       "3"
      ]
     },
     "execution_count": 3,
     "metadata": {},
     "output_type": "execute_result"
    }
   ],
   "source": [
    "# This will convert 200 minutes to hours by diving by 60\n",
    "200//60"
   ]
  },
  {
   "cell_type": "markdown",
   "id": "bcf8f8d6-9403-4257-a60c-2c7eaaa62679",
   "metadata": {},
   "source": [
    "<strong>Objectives:<strong>\n",
    "\n",
    "* Popular languages for Data Science\n",
    "* Libraries for Data Science\n",
    "* R/Rstudio for Data Science\n",
    "* Python for Data Science"
   ]
  },
  {
   "cell_type": "markdown",
   "id": "f6d7ac0c-7c06-4678-b159-c3c303cc2563",
   "metadata": {},
   "source": [
    "## Author\n",
    "Chethan P P"
   ]
  },
  {
   "cell_type": "code",
   "execution_count": null,
   "id": "4c6f2a93-172a-41b0-b7d7-3f23a3c1fd92",
   "metadata": {},
   "outputs": [],
   "source": []
  }
 ],
 "metadata": {
  "kernelspec": {
   "display_name": "Python",
   "language": "python",
   "name": "conda-env-python-py"
  },
  "language_info": {
   "codemirror_mode": {
    "name": "ipython",
    "version": 3
   },
   "file_extension": ".py",
   "mimetype": "text/x-python",
   "name": "python",
   "nbconvert_exporter": "python",
   "pygments_lexer": "ipython3",
   "version": "3.7.12"
  }
 },
 "nbformat": 4,
 "nbformat_minor": 5
}
